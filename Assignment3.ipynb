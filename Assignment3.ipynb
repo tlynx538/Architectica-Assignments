{
 "cells": [
  {
   "cell_type": "markdown",
   "metadata": {},
   "source": [
    "# Assignment 3\n",
    "### Problem Statement:\n",
    "PRACTICE WORKING ON PANDAS, NUMPY AND MATPLOTLIB. \n",
    "YOU CAN TAKE HELP FROM THE RESPECTIVE SESSION OR THE CONTENT GIVEN BELOW.\n",
    "\n",
    "Quickstart tutorial — NumPy v1.17 Manual \n",
    "\n",
    "10 minutes to pandas — pandas 1.0.3 documentation\n",
    "\n",
    "https://matplotlib.org/tutorials/introductory/pyplot.html#sphx-glr-tutorials-introductory-pyplot-py\n",
    "\n",
    "#### Submission by Vinayak Jaiwant(vjaiwantx@gmail.com)"
   ]
  },
  {
   "cell_type": "code",
   "execution_count": 1,
   "metadata": {},
   "outputs": [],
   "source": [
    "## numpy practise\n",
    "import numpy as np"
   ]
  },
  {
   "cell_type": "code",
   "execution_count": 2,
   "metadata": {},
   "outputs": [],
   "source": [
    "x = np.array([1,2,3])\n",
    "y = np.array([3,4,5])"
   ]
  },
  {
   "cell_type": "code",
   "execution_count": 3,
   "metadata": {},
   "outputs": [],
   "source": [
    "z = x * y"
   ]
  },
  {
   "cell_type": "code",
   "execution_count": 4,
   "metadata": {},
   "outputs": [
    {
     "data": {
      "text/plain": [
       "array([ 3,  8, 15])"
      ]
     },
     "execution_count": 4,
     "metadata": {},
     "output_type": "execute_result"
    }
   ],
   "source": [
    "z #multiplication of arrays x and y"
   ]
  },
  {
   "cell_type": "code",
   "execution_count": 5,
   "metadata": {},
   "outputs": [
    {
     "data": {
      "text/plain": [
       "dtype('int64')"
      ]
     },
     "execution_count": 5,
     "metadata": {},
     "output_type": "execute_result"
    }
   ],
   "source": [
    "# print data types of array\n",
    "z.dtype"
   ]
  },
  {
   "cell_type": "code",
   "execution_count": 6,
   "metadata": {},
   "outputs": [
    {
     "data": {
      "text/plain": [
       "array([[0., 0., 0.],\n",
       "       [0., 0., 0.],\n",
       "       [0., 0., 0.]])"
      ]
     },
     "execution_count": 6,
     "metadata": {},
     "output_type": "execute_result"
    }
   ],
   "source": [
    "# creating of array of zeros\n",
    "b = np.zeros((3,3))\n",
    "b"
   ]
  },
  {
   "cell_type": "code",
   "execution_count": 7,
   "metadata": {},
   "outputs": [
    {
     "data": {
      "text/plain": [
       "array([[1., 1., 1.],\n",
       "       [1., 1., 1.],\n",
       "       [1., 1., 1.]])"
      ]
     },
     "execution_count": 7,
     "metadata": {},
     "output_type": "execute_result"
    }
   ],
   "source": [
    "# creating an array of ones\n",
    "a = np.ones ((3,3))\n",
    "a"
   ]
  },
  {
   "cell_type": "code",
   "execution_count": 8,
   "metadata": {},
   "outputs": [
    {
     "data": {
      "text/plain": [
       "array([10, 30, 50, 70, 90])"
      ]
     },
     "execution_count": 8,
     "metadata": {},
     "output_type": "execute_result"
    }
   ],
   "source": [
    "#creating an array of certain range\n",
    "c = np.arange(10,100,20)\n",
    "c"
   ]
  },
  {
   "cell_type": "code",
   "execution_count": 9,
   "metadata": {},
   "outputs": [],
   "source": [
    "## we shall plot a sin graph using matplotlib and numpy\n",
    "import matplotlib.pyplot as plt"
   ]
  },
  {
   "cell_type": "code",
   "execution_count": 12,
   "metadata": {},
   "outputs": [
    {
     "data": {
      "text/plain": [
       "array([  0,  20,  40,  60,  80, 100, 120, 140, 160])"
      ]
     },
     "execution_count": 12,
     "metadata": {},
     "output_type": "execute_result"
    }
   ],
   "source": [
    "X= np.arange(0,180,20)\n",
    "X"
   ]
  },
  {
   "cell_type": "code",
   "execution_count": 15,
   "metadata": {},
   "outputs": [],
   "source": [
    "import math"
   ]
  },
  {
   "cell_type": "code",
   "execution_count": 19,
   "metadata": {},
   "outputs": [
    {
     "data": {
      "text/plain": [
       "array([ 0.        ,  0.91294525,  0.74511316, -0.30481062, -0.99388865,\n",
       "       -0.50636564,  0.58061118,  0.98023966,  0.21942526])"
      ]
     },
     "execution_count": 19,
     "metadata": {},
     "output_type": "execute_result"
    }
   ],
   "source": [
    "Y=[]\n",
    "for i in X:\n",
    "    Y.append(math.sin(i))\n",
    "Y=np.array(Y)\n",
    "Y"
   ]
  },
  {
   "cell_type": "code",
   "execution_count": 20,
   "metadata": {},
   "outputs": [
    {
     "data": {
      "image/png": "[encoded data removed]",
      "text/plain": [
       "<Figure size 432x288 with 1 Axes>"
      ]
     },
     "metadata": {
      "needs_background": "light"
     },
     "output_type": "display_data"
    }
   ],
   "source": [
    "## plotting the sin graph\n",
    "plt.plot(X,Y)\n",
    "plt.show()"
   ]
  },
  {
   "cell_type": "code",
   "execution_count": 21,
   "metadata": {},
   "outputs": [],
   "source": [
    "# practising pandas\n",
    "import pandas as pd\n"
   ]
  },
  {
   "cell_type": "code",
   "execution_count": 22,
   "metadata": {},
   "outputs": [
    {
     "data": {
      "text/plain": [
       "0    1\n",
       "1    3\n",
       "2    5\n",
       "3    7\n",
       "dtype: int64"
      ]
     },
     "execution_count": 22,
     "metadata": {},
     "output_type": "execute_result"
    }
   ],
   "source": [
    "## Creating a pandas series\n",
    "a = pd.Series([1,3,5,7])\n",
    "a"
   ]
  },
  {
   "cell_type": "code",
   "execution_count": 24,
   "metadata": {},
   "outputs": [],
   "source": [
    "datex=pd.date_range('20200401',periods=7)\n"
   ]
  },
  {
   "cell_type": "code",
   "execution_count": 26,
   "metadata": {},
   "outputs": [
    {
     "data": {
      "text/html": [
       "<div>\n",
       "<style scoped>\n",
       "    .dataframe tbody tr th:only-of-type {\n",
       "        vertical-align: middle;\n",
       "    }\n",
       "\n",
       "    .dataframe tbody tr th {\n",
       "        vertical-align: top;\n",
       "    }\n",
       "\n",
       "    .dataframe thead th {\n",
       "        text-align: right;\n",
       "    }\n",
       "</style>\n",
       "<table border=\"1\" class=\"dataframe\">\n",
       "  <thead>\n",
       "    <tr style=\"text-align: right;\">\n",
       "      <th></th>\n",
       "      <th>A</th>\n",
       "      <th>B</th>\n",
       "      <th>C</th>\n",
       "      <th>D</th>\n",
       "    </tr>\n",
       "  </thead>\n",
       "  <tbody>\n",
       "    <tr>\n",
       "      <th>2020-04-01</th>\n",
       "      <td>-1.416302</td>\n",
       "      <td>0.923619</td>\n",
       "      <td>2.170552</td>\n",
       "      <td>0.958450</td>\n",
       "    </tr>\n",
       "    <tr>\n",
       "      <th>2020-04-02</th>\n",
       "      <td>0.887495</td>\n",
       "      <td>-1.041649</td>\n",
       "      <td>-0.486347</td>\n",
       "      <td>0.247855</td>\n",
       "    </tr>\n",
       "    <tr>\n",
       "      <th>2020-04-03</th>\n",
       "      <td>-0.018981</td>\n",
       "      <td>-0.441937</td>\n",
       "      <td>0.518471</td>\n",
       "      <td>1.373192</td>\n",
       "    </tr>\n",
       "    <tr>\n",
       "      <th>2020-04-04</th>\n",
       "      <td>-0.695854</td>\n",
       "      <td>0.509634</td>\n",
       "      <td>-1.513158</td>\n",
       "      <td>-0.579362</td>\n",
       "    </tr>\n",
       "    <tr>\n",
       "      <th>2020-04-05</th>\n",
       "      <td>1.291862</td>\n",
       "      <td>-0.343989</td>\n",
       "      <td>1.404879</td>\n",
       "      <td>0.467467</td>\n",
       "    </tr>\n",
       "    <tr>\n",
       "      <th>2020-04-06</th>\n",
       "      <td>1.860386</td>\n",
       "      <td>0.959677</td>\n",
       "      <td>0.125176</td>\n",
       "      <td>0.440800</td>\n",
       "    </tr>\n",
       "    <tr>\n",
       "      <th>2020-04-07</th>\n",
       "      <td>-0.671134</td>\n",
       "      <td>0.427135</td>\n",
       "      <td>-0.106512</td>\n",
       "      <td>0.101661</td>\n",
       "    </tr>\n",
       "  </tbody>\n",
       "</table>\n",
       "</div>"
      ],
      "text/plain": [
       "                   A         B         C         D\n",
       "2020-04-01 -1.416302  0.923619  2.170552  0.958450\n",
       "2020-04-02  0.887495 -1.041649 -0.486347  0.247855\n",
       "2020-04-03 -0.018981 -0.441937  0.518471  1.373192\n",
       "2020-04-04 -0.695854  0.509634 -1.513158 -0.579362\n",
       "2020-04-05  1.291862 -0.343989  1.404879  0.467467\n",
       "2020-04-06  1.860386  0.959677  0.125176  0.440800\n",
       "2020-04-07 -0.671134  0.427135 -0.106512  0.101661"
      ]
     },
     "execution_count": 26,
     "metadata": {},
     "output_type": "execute_result"
    }
   ],
   "source": [
    "#creating a pandas dataframe\n",
    "df = pd.DataFrame(np.random.randn(7,4),index=datex,columns=list('ABCD'))\n",
    "df"
   ]
  },
  {
   "cell_type": "code",
   "execution_count": 27,
   "metadata": {},
   "outputs": [],
   "source": [
    "#simple slicing row and column\n",
    "X=df.iloc[:2]"
   ]
  },
  {
   "cell_type": "code",
   "execution_count": 28,
   "metadata": {},
   "outputs": [
    {
     "data": {
      "text/html": [
       "<div>\n",
       "<style scoped>\n",
       "    .dataframe tbody tr th:only-of-type {\n",
       "        vertical-align: middle;\n",
       "    }\n",
       "\n",
       "    .dataframe tbody tr th {\n",
       "        vertical-align: top;\n",
       "    }\n",
       "\n",
       "    .dataframe thead th {\n",
       "        text-align: right;\n",
       "    }\n",
       "</style>\n",
       "<table border=\"1\" class=\"dataframe\">\n",
       "  <thead>\n",
       "    <tr style=\"text-align: right;\">\n",
       "      <th></th>\n",
       "      <th>A</th>\n",
       "      <th>B</th>\n",
       "      <th>C</th>\n",
       "      <th>D</th>\n",
       "    </tr>\n",
       "  </thead>\n",
       "  <tbody>\n",
       "    <tr>\n",
       "      <th>2020-04-01</th>\n",
       "      <td>-1.416302</td>\n",
       "      <td>0.923619</td>\n",
       "      <td>2.170552</td>\n",
       "      <td>0.958450</td>\n",
       "    </tr>\n",
       "    <tr>\n",
       "      <th>2020-04-02</th>\n",
       "      <td>0.887495</td>\n",
       "      <td>-1.041649</td>\n",
       "      <td>-0.486347</td>\n",
       "      <td>0.247855</td>\n",
       "    </tr>\n",
       "  </tbody>\n",
       "</table>\n",
       "</div>"
      ],
      "text/plain": [
       "                   A         B         C         D\n",
       "2020-04-01 -1.416302  0.923619  2.170552  0.958450\n",
       "2020-04-02  0.887495 -1.041649 -0.486347  0.247855"
      ]
     },
     "execution_count": 28,
     "metadata": {},
     "output_type": "execute_result"
    }
   ],
   "source": [
    "X"
   ]
  },
  {
   "cell_type": "code",
   "execution_count": 35,
   "metadata": {},
   "outputs": [
    {
     "data": {
      "text/html": [
       "<div>\n",
       "<style scoped>\n",
       "    .dataframe tbody tr th:only-of-type {\n",
       "        vertical-align: middle;\n",
       "    }\n",
       "\n",
       "    .dataframe tbody tr th {\n",
       "        vertical-align: top;\n",
       "    }\n",
       "\n",
       "    .dataframe thead th {\n",
       "        text-align: right;\n",
       "    }\n",
       "</style>\n",
       "<table border=\"1\" class=\"dataframe\">\n",
       "  <thead>\n",
       "    <tr style=\"text-align: right;\">\n",
       "      <th></th>\n",
       "      <th>A</th>\n",
       "    </tr>\n",
       "  </thead>\n",
       "  <tbody>\n",
       "    <tr>\n",
       "      <th>2020-04-01</th>\n",
       "      <td>-1.416302</td>\n",
       "    </tr>\n",
       "    <tr>\n",
       "      <th>2020-04-02</th>\n",
       "      <td>0.887495</td>\n",
       "    </tr>\n",
       "    <tr>\n",
       "      <th>2020-04-03</th>\n",
       "      <td>-0.018981</td>\n",
       "    </tr>\n",
       "    <tr>\n",
       "      <th>2020-04-04</th>\n",
       "      <td>-0.695854</td>\n",
       "    </tr>\n",
       "    <tr>\n",
       "      <th>2020-04-05</th>\n",
       "      <td>1.291862</td>\n",
       "    </tr>\n",
       "    <tr>\n",
       "      <th>2020-04-06</th>\n",
       "      <td>1.860386</td>\n",
       "    </tr>\n",
       "    <tr>\n",
       "      <th>2020-04-07</th>\n",
       "      <td>-0.671134</td>\n",
       "    </tr>\n",
       "  </tbody>\n",
       "</table>\n",
       "</div>"
      ],
      "text/plain": [
       "                   A\n",
       "2020-04-01 -1.416302\n",
       "2020-04-02  0.887495\n",
       "2020-04-03 -0.018981\n",
       "2020-04-04 -0.695854\n",
       "2020-04-05  1.291862\n",
       "2020-04-06  1.860386\n",
       "2020-04-07 -0.671134"
      ]
     },
     "execution_count": 35,
     "metadata": {},
     "output_type": "execute_result"
    }
   ],
   "source": [
    "X=df.iloc[:,:1]\n",
    "X"
   ]
  },
  {
   "cell_type": "code",
   "execution_count": 36,
   "metadata": {},
   "outputs": [
    {
     "data": {
      "text/html": [
       "<div>\n",
       "<style scoped>\n",
       "    .dataframe tbody tr th:only-of-type {\n",
       "        vertical-align: middle;\n",
       "    }\n",
       "\n",
       "    .dataframe tbody tr th {\n",
       "        vertical-align: top;\n",
       "    }\n",
       "\n",
       "    .dataframe thead th {\n",
       "        text-align: right;\n",
       "    }\n",
       "</style>\n",
       "<table border=\"1\" class=\"dataframe\">\n",
       "  <thead>\n",
       "    <tr style=\"text-align: right;\">\n",
       "      <th></th>\n",
       "      <th>A</th>\n",
       "      <th>B</th>\n",
       "      <th>C</th>\n",
       "      <th>D</th>\n",
       "    </tr>\n",
       "  </thead>\n",
       "  <tbody>\n",
       "    <tr>\n",
       "      <th>2020-04-01</th>\n",
       "      <td>-1.416302</td>\n",
       "      <td>0.923619</td>\n",
       "      <td>2.170552</td>\n",
       "      <td>0.958450</td>\n",
       "    </tr>\n",
       "    <tr>\n",
       "      <th>2020-04-02</th>\n",
       "      <td>0.887495</td>\n",
       "      <td>-1.041649</td>\n",
       "      <td>-0.486347</td>\n",
       "      <td>0.247855</td>\n",
       "    </tr>\n",
       "    <tr>\n",
       "      <th>2020-04-03</th>\n",
       "      <td>-0.018981</td>\n",
       "      <td>-0.441937</td>\n",
       "      <td>0.518471</td>\n",
       "      <td>1.373192</td>\n",
       "    </tr>\n",
       "    <tr>\n",
       "      <th>2020-04-04</th>\n",
       "      <td>-0.695854</td>\n",
       "      <td>0.509634</td>\n",
       "      <td>-1.513158</td>\n",
       "      <td>-0.579362</td>\n",
       "    </tr>\n",
       "    <tr>\n",
       "      <th>2020-04-05</th>\n",
       "      <td>1.291862</td>\n",
       "      <td>-0.343989</td>\n",
       "      <td>1.404879</td>\n",
       "      <td>0.467467</td>\n",
       "    </tr>\n",
       "  </tbody>\n",
       "</table>\n",
       "</div>"
      ],
      "text/plain": [
       "                   A         B         C         D\n",
       "2020-04-01 -1.416302  0.923619  2.170552  0.958450\n",
       "2020-04-02  0.887495 -1.041649 -0.486347  0.247855\n",
       "2020-04-03 -0.018981 -0.441937  0.518471  1.373192\n",
       "2020-04-04 -0.695854  0.509634 -1.513158 -0.579362\n",
       "2020-04-05  1.291862 -0.343989  1.404879  0.467467"
      ]
     },
     "execution_count": 36,
     "metadata": {},
     "output_type": "execute_result"
    }
   ],
   "source": [
    "df.head() # shows top part of the dataset"
   ]
  },
  {
   "cell_type": "code",
   "execution_count": 37,
   "metadata": {},
   "outputs": [
    {
     "data": {
      "text/html": [
       "<div>\n",
       "<style scoped>\n",
       "    .dataframe tbody tr th:only-of-type {\n",
       "        vertical-align: middle;\n",
       "    }\n",
       "\n",
       "    .dataframe tbody tr th {\n",
       "        vertical-align: top;\n",
       "    }\n",
       "\n",
       "    .dataframe thead th {\n",
       "        text-align: right;\n",
       "    }\n",
       "</style>\n",
       "<table border=\"1\" class=\"dataframe\">\n",
       "  <thead>\n",
       "    <tr style=\"text-align: right;\">\n",
       "      <th></th>\n",
       "      <th>A</th>\n",
       "      <th>B</th>\n",
       "      <th>C</th>\n",
       "      <th>D</th>\n",
       "    </tr>\n",
       "  </thead>\n",
       "  <tbody>\n",
       "    <tr>\n",
       "      <th>count</th>\n",
       "      <td>7.000000</td>\n",
       "      <td>7.000000</td>\n",
       "      <td>7.000000</td>\n",
       "      <td>7.000000</td>\n",
       "    </tr>\n",
       "    <tr>\n",
       "      <th>mean</th>\n",
       "      <td>0.176782</td>\n",
       "      <td>0.141784</td>\n",
       "      <td>0.301866</td>\n",
       "      <td>0.430009</td>\n",
       "    </tr>\n",
       "    <tr>\n",
       "      <th>std</th>\n",
       "      <td>1.199981</td>\n",
       "      <td>0.760939</td>\n",
       "      <td>1.215808</td>\n",
       "      <td>0.623189</td>\n",
       "    </tr>\n",
       "    <tr>\n",
       "      <th>min</th>\n",
       "      <td>-1.416302</td>\n",
       "      <td>-1.041649</td>\n",
       "      <td>-1.513158</td>\n",
       "      <td>-0.579362</td>\n",
       "    </tr>\n",
       "    <tr>\n",
       "      <th>25%</th>\n",
       "      <td>-0.683494</td>\n",
       "      <td>-0.392963</td>\n",
       "      <td>-0.296430</td>\n",
       "      <td>0.174758</td>\n",
       "    </tr>\n",
       "    <tr>\n",
       "      <th>50%</th>\n",
       "      <td>-0.018981</td>\n",
       "      <td>0.427135</td>\n",
       "      <td>0.125176</td>\n",
       "      <td>0.440800</td>\n",
       "    </tr>\n",
       "    <tr>\n",
       "      <th>75%</th>\n",
       "      <td>1.089679</td>\n",
       "      <td>0.716627</td>\n",
       "      <td>0.961675</td>\n",
       "      <td>0.712958</td>\n",
       "    </tr>\n",
       "    <tr>\n",
       "      <th>max</th>\n",
       "      <td>1.860386</td>\n",
       "      <td>0.959677</td>\n",
       "      <td>2.170552</td>\n",
       "      <td>1.373192</td>\n",
       "    </tr>\n",
       "  </tbody>\n",
       "</table>\n",
       "</div>"
      ],
      "text/plain": [
       "              A         B         C         D\n",
       "count  7.000000  7.000000  7.000000  7.000000\n",
       "mean   0.176782  0.141784  0.301866  0.430009\n",
       "std    1.199981  0.760939  1.215808  0.623189\n",
       "min   -1.416302 -1.041649 -1.513158 -0.579362\n",
       "25%   -0.683494 -0.392963 -0.296430  0.174758\n",
       "50%   -0.018981  0.427135  0.125176  0.440800\n",
       "75%    1.089679  0.716627  0.961675  0.712958\n",
       "max    1.860386  0.959677  2.170552  1.373192"
      ]
     },
     "execution_count": 37,
     "metadata": {},
     "output_type": "execute_result"
    }
   ],
   "source": [
    "df.describe() #displays the statistical significance of the dataset"
   ]
  },
  {
   "cell_type": "code",
   "execution_count": 39,
   "metadata": {},
   "outputs": [
    {
     "data": {
      "text/plain": [
       "2020-04-01   -1.416302\n",
       "2020-04-02    0.887495\n",
       "2020-04-03   -0.018981\n",
       "2020-04-04   -0.695854\n",
       "2020-04-05    1.291862\n",
       "2020-04-06    1.860386\n",
       "2020-04-07   -0.671134\n",
       "Freq: D, Name: A, dtype: float64"
      ]
     },
     "execution_count": 39,
     "metadata": {},
     "output_type": "execute_result"
    }
   ],
   "source": [
    "df['A'] ## alternative of slicing"
   ]
  },
  {
   "cell_type": "code",
   "execution_count": 40,
   "metadata": {},
   "outputs": [
    {
     "data": {
      "text/html": [
       "<div>\n",
       "<style scoped>\n",
       "    .dataframe tbody tr th:only-of-type {\n",
       "        vertical-align: middle;\n",
       "    }\n",
       "\n",
       "    .dataframe tbody tr th {\n",
       "        vertical-align: top;\n",
       "    }\n",
       "\n",
       "    .dataframe thead th {\n",
       "        text-align: right;\n",
       "    }\n",
       "</style>\n",
       "<table border=\"1\" class=\"dataframe\">\n",
       "  <thead>\n",
       "    <tr style=\"text-align: right;\">\n",
       "      <th></th>\n",
       "      <th>A</th>\n",
       "      <th>B</th>\n",
       "    </tr>\n",
       "  </thead>\n",
       "  <tbody>\n",
       "    <tr>\n",
       "      <th>2020-04-01</th>\n",
       "      <td>-1.416302</td>\n",
       "      <td>0.923619</td>\n",
       "    </tr>\n",
       "    <tr>\n",
       "      <th>2020-04-02</th>\n",
       "      <td>0.887495</td>\n",
       "      <td>-1.041649</td>\n",
       "    </tr>\n",
       "    <tr>\n",
       "      <th>2020-04-03</th>\n",
       "      <td>-0.018981</td>\n",
       "      <td>-0.441937</td>\n",
       "    </tr>\n",
       "    <tr>\n",
       "      <th>2020-04-04</th>\n",
       "      <td>-0.695854</td>\n",
       "      <td>0.509634</td>\n",
       "    </tr>\n",
       "    <tr>\n",
       "      <th>2020-04-05</th>\n",
       "      <td>1.291862</td>\n",
       "      <td>-0.343989</td>\n",
       "    </tr>\n",
       "    <tr>\n",
       "      <th>2020-04-06</th>\n",
       "      <td>1.860386</td>\n",
       "      <td>0.959677</td>\n",
       "    </tr>\n",
       "    <tr>\n",
       "      <th>2020-04-07</th>\n",
       "      <td>-0.671134</td>\n",
       "      <td>0.427135</td>\n",
       "    </tr>\n",
       "  </tbody>\n",
       "</table>\n",
       "</div>"
      ],
      "text/plain": [
       "                   A         B\n",
       "2020-04-01 -1.416302  0.923619\n",
       "2020-04-02  0.887495 -1.041649\n",
       "2020-04-03 -0.018981 -0.441937\n",
       "2020-04-04 -0.695854  0.509634\n",
       "2020-04-05  1.291862 -0.343989\n",
       "2020-04-06  1.860386  0.959677\n",
       "2020-04-07 -0.671134  0.427135"
      ]
     },
     "execution_count": 40,
     "metadata": {},
     "output_type": "execute_result"
    }
   ],
   "source": [
    "df[['A','B']] ##selection by columns"
   ]
  },
  {
   "cell_type": "code",
   "execution_count": 41,
   "metadata": {},
   "outputs": [
    {
     "data": {
      "text/plain": [
       "array([[ 1.49262723, -1.03796377,  0.1988244 ],\n",
       "       [-0.05435277, -0.59390082,  1.86151277],\n",
       "       [-1.39874366, -0.24825885, -0.59692267]])"
      ]
     },
     "execution_count": 41,
     "metadata": {},
     "output_type": "execute_result"
    }
   ],
   "source": [
    "J = np.array(np.random.randn(3,3))\n",
    "J"
   ]
  },
  {
   "cell_type": "code",
   "execution_count": 43,
   "metadata": {},
   "outputs": [
    {
     "data": {
      "text/plain": [
       "array([[ 0.64988441,  1.17728795, -0.39817767],\n",
       "       [-1.2374868 , -1.72583759, -0.40424859],\n",
       "       [ 0.10633459,  0.76700403,  0.20072159]])"
      ]
     },
     "execution_count": 43,
     "metadata": {},
     "output_type": "execute_result"
    }
   ],
   "source": [
    "K = np.array(np.random.randn(3,3))\n",
    "K"
   ]
  },
  {
   "cell_type": "code",
   "execution_count": 44,
   "metadata": {},
   "outputs": [
    {
     "data": {
      "image/png": "[encoded data removed]",
      "text/plain": [
       "<Figure size 432x288 with 1 Axes>"
      ]
     },
     "metadata": {
      "needs_background": "light"
     },
     "output_type": "display_data"
    }
   ],
   "source": [
    "plt.scatter(J,K) ##simple scatter plot\n",
    "plt.show()"
   ]
  },
  {
   "cell_type": "code",
   "execution_count": 45,
   "metadata": {},
   "outputs": [
    {
     "name": "stdout",
     "output_type": "stream",
     "text": [
      "[0.0, -0.9589242746631385, -0.5440211108893699, 0.6502878401571169, 0.9129452507276277, -0.13235175009777303, -0.9880316240928618, -0.428182669496151, 0.7451131604793488, 0.8509035245341184, -0.26237485370392877, -0.9997551733586199, -0.3048106211022167, 0.8268286794901035, 0.7738906815578891, -0.38778163540943045, -0.9938886539233752, -0.1760756199485871, 0.8939966636005579, 0.683261714736121, -0.5063656411097588, -0.9705352835374847, -0.044242678085070965, 0.9454353340247703, 0.5806111842123143, -0.6160404591886565, -0.9301059501867618, 0.08836868610400142, 0.9802396594403116, 0.4677451620451334, -0.7148764296291645, -0.8733119827746476, 0.21942525837900473, 0.9977972794498907, 0.3466494554970303, -0.8011345951780408, -0.8011526357338306, 0.346621180094276, 0.9977992786806003, 0.2194546679940636, -0.8732972972139945, -0.7148975077677644, 0.46771851834275896, 0.9802456219572225, 0.08839871248753149, -0.9300948780045254, -0.6160642040533644, 0.5805866409896447, 0.9454451549211168, -0.04421256322855966, -0.9705280195418053, -0.5063916349244909, 0.6832397038158509, 0.8940101700837942, -0.17604594647121138, -0.9938853259197261, -0.3878094208292295, 0.7738715902084317, 0.8268456339220814, -0.3047819110903029, -0.9997558399011495, -0.2624039418616639, 0.8508876886558596, 0.7451332645574127, -0.42815542808445156, -0.9880362734541701, -0.13238162920545193, 0.9129329489429682, 0.6503107401625526, -0.5439958173735323, -0.9589328250406132, -3.014435335948845e-05] [1.0, 0.2836621854632263, -0.8390715290764524, -0.7596879128588212, 0.40808206181339196, 0.9912028118634736, 0.15425144988758405, -0.9036922050915067, -0.6669380616522619, 0.5253219888177297, 0.9649660284921133, 0.022126756261955732, -0.9524129804151563, -0.562453851238172, 0.6333192030862999, 0.9217512697247493, -0.11038724383904756, -0.9843766433940419, -0.4480736161291701, 0.7301735609948197, 0.862318872287684, -0.24095904923620143, -0.999020813314648, -0.3258098052199642, 0.8141809705265618, 0.7877145121442345, -0.36729133045469653, -0.9960878351411849, -0.19781357400426822, 0.8838633737085002, 0.6992508064783751, -0.4871613498033415, -0.9756293127952373, -0.06633693633562374, 0.9379947521194415, 0.5984842190140996, -0.5984600690578581, -0.9380052012169503, 0.06630685835171127, 0.9756226979194443, 0.48718767500700594, -0.6992292566729736, -0.8838774731823718, 0.19778402522372224, 0.9960851708717215, 0.36731936773024515, -0.787695941645058, -0.8141984723053473, 0.3257813055351481, 0.9990221465276736, 0.24098830528525864, -0.8623036078310824, -0.7301941571456378, 0.44804666697426215, 0.9843819506325049, 0.11041720391967796, -0.9217395798793158, -0.6333425312327234, 0.5624289267667438, 0.9524221683015063, -0.022096619278683942, -0.9649581189333869, -0.5253476385155728, 0.6669156003948422, 0.903705111970614, -0.1542216662430943, -0.9911988217552068, -0.40810958177221934, 0.7596683100072248, 0.8390879278598296, -0.28363327918216646, -0.999999999545659]\n"
     ]
    }
   ],
   "source": [
    "## sin vs cos graph\n",
    "X = np.arange(0,360,5)\n",
    "Y=[]\n",
    "Z=[]\n",
    "for i in X:\n",
    "    Y.append(math.sin(i))\n",
    "    Z.append(math.cos(i))\n",
    "print(Y,Z)    "
   ]
  },
  {
   "cell_type": "code",
   "execution_count": 46,
   "metadata": {},
   "outputs": [],
   "source": [
    "Y=np.array(Y)\n",
    "Z=np.array(Z)"
   ]
  },
  {
   "cell_type": "code",
   "execution_count": 47,
   "metadata": {},
   "outputs": [
    {
     "data": {
      "image/png": "[encoded data removed]",
      "text/plain": [
       "<Figure size 432x288 with 1 Axes>"
      ]
     },
     "metadata": {
      "needs_background": "light"
     },
     "output_type": "display_data"
    }
   ],
   "source": [
    "plt.plot(X,Y)\n",
    "plt.plot(X,Z)\n",
    "plt.show()"
   ]
  },
  {
   "cell_type": "code",
   "execution_count": null,
   "metadata": {},
   "outputs": [],
   "source": []
  }
 ],
 "metadata": {
  "kernelspec": {
   "display_name": "Python 3",
   "language": "python",
   "name": "python3"
  },
  "language_info": {
   "codemirror_mode": {
    "name": "ipython",
    "version": 3
   },
   "file_extension": ".py",
   "mimetype": "text/x-python",
   "name": "python",
   "nbconvert_exporter": "python",
   "pygments_lexer": "ipython3",
   "version": "3.7.6"
  }
 },
 "nbformat": 4,
 "nbformat_minor": 4
}
